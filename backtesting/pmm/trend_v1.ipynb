{
 "cells": [
  {
   "cell_type": "code",
   "execution_count": null,
   "id": "d439b9cb",
   "metadata": {},
   "outputs": [],
   "source": [
    "import logging\n",
    "\n",
    "logging.basicConfig(\n",
    "    level=logging.WARNING,\n",
    "    format='%(asctime)s - %(levelname)s - %(message)s'\n",
    ")\n",
    "\n",
    "do_profile = False\n",
    "\n",
    "profiler = None\n",
    "if do_profile:\n",
    "    from pyinstrument import Profiler\n",
    "    profiler = Profiler()\n",
    "    profiler.start()\n",
    "\n",
    "import os\n",
    "import sys\n",
    "from datetime import datetime\n",
    "current_dir = os.getcwd()\n",
    "sys.path.append(os.path.join(current_dir, '../..'))\n",
    "\n",
    "from backtesting import backtest_engine\n",
    "\n",
    "from controllers.market_making import pmm_common\n",
    "pmm_common.BACKTESTING = True\n",
    "pmm_common.LOG_DETAIL = True\n",
    "\n",
    "# start_date = datetime(2025, 6, 18)\n",
    "# end_date = datetime(2025, 6, 25)\n",
    "\n",
    "start_date = datetime(2025, 6, 28)\n",
    "end_date = datetime(2025, 6, 28, 22)\n",
    "\n",
    "config_file = 'trend_v1.yml'\n",
    "backtest_resolution = '1m'\n",
    "trade_cost = 0.0002\n",
    "slippage = 0.004\n",
    "\n",
    "enable_trades = True\n",
    "engine = backtest_engine.BacktestEngine(enable_trades=enable_trades)\n",
    "backtest_result = await engine.async_backtest(current_dir, config_file, start_date, end_date, backtest_resolution, trade_cost, slippage, False)\n",
    "if backtest_result is not None:\n",
    "    fig = backtest_result.get_backtesting_figure()\n",
    "    fig.show()\n",
    "\n",
    "if do_profile:\n",
    "    profiler.stop()\n",
    "    profiler.print()"
   ]
  },
  {
   "cell_type": "code",
   "execution_count": null,
   "id": "751e74e9",
   "metadata": {},
   "outputs": [],
   "source": [
    "# if do_profile:\n",
    "#     from pyinstrument import Profiler\n",
    "#     profiler = Profiler()\n",
    "#     profiler.start()\n",
    "    \n",
    "# backtest_result = await engine.async_backtest(current_dir, config_file, start_date, end_date, backtest_resolution, trade_cost, slippage, True)\n",
    "# if backtest_result is not None:\n",
    "#     fig = backtest_result.get_backtesting_figure()\n",
    "#     fig.show()    \n",
    "\n",
    "# if do_profile:\n",
    "#     profiler.stop()\n",
    "#     profiler.print()"
   ]
  }
 ],
 "metadata": {
  "kernelspec": {
   "display_name": "hummingbot",
   "language": "python",
   "name": "python3"
  },
  "language_info": {
   "codemirror_mode": {
    "name": "ipython",
    "version": 3
   },
   "file_extension": ".py",
   "mimetype": "text/x-python",
   "name": "python",
   "nbconvert_exporter": "python",
   "pygments_lexer": "ipython3",
   "version": "3.12.11"
  }
 },
 "nbformat": 4,
 "nbformat_minor": 5
}
